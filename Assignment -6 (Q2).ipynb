{
 "cells": [
  {
   "cell_type": "code",
   "execution_count": 34,
   "id": "684fd854",
   "metadata": {},
   "outputs": [
    {
     "name": "stdout",
     "output_type": "stream",
     "text": [
      "dog name is: sam\n",
      "dog age is: 5\n",
      "dog coat colour is: shadedyellow\n",
      "-----------------------------------\n",
      "dog name is: jack\n",
      "dog age is: 3\n",
      "dog coat colour is: gray\n",
      "-----------------------------------\n",
      "dog name is: bull\n",
      "dog age is: 2\n",
      "dog coat colour is: brown\n"
     ]
    }
   ],
   "source": [
    "class dog:\n",
    "    def __init__(self,name,age,coat_colour):\n",
    "        self.name=name\n",
    "        self.age=age\n",
    "        self.coat_colour=coat_colour\n",
    "        \n",
    "    def description(self):\n",
    "        print(\"dog name is:\",self.name)\n",
    "        print(\"dog age is:\",self.age)\n",
    "    \n",
    "    def get_info(self):\n",
    "        print(\"dog coat colour is:\",self.coat_colour)\n",
    "        \n",
    "class JackRussellTerrier(dog):\n",
    "        pass\n",
    "        \n",
    "class Bulldog(dog):\n",
    "        pass\n",
    "        \n",
    "x=dog(\"sam\",5,\"shadedyellow\") \n",
    "x.description()\n",
    "x.get_info()\n",
    "print(\"-----------------------------------\")\n",
    "y=JackRussellTerrier(\"jack\",3,\"gray\")\n",
    "y.description()\n",
    "y.get_info()\n",
    "print(\"-----------------------------------\")\n",
    "z=Bulldog(\"bull\",2,\"brown\")\n",
    "z.description()\n",
    "z.get_info()"
   ]
  },
  {
   "cell_type": "code",
   "execution_count": null,
   "id": "3db0cf1d",
   "metadata": {},
   "outputs": [],
   "source": []
  }
 ],
 "metadata": {
  "kernelspec": {
   "display_name": "Python 3 (ipykernel)",
   "language": "python",
   "name": "python3"
  },
  "language_info": {
   "codemirror_mode": {
    "name": "ipython",
    "version": 3
   },
   "file_extension": ".py",
   "mimetype": "text/x-python",
   "name": "python",
   "nbconvert_exporter": "python",
   "pygments_lexer": "ipython3",
   "version": "3.9.13"
  }
 },
 "nbformat": 4,
 "nbformat_minor": 5
}
