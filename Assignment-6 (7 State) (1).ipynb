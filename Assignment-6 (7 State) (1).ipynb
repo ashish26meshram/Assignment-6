{
 "cells": [
  {
   "cell_type": "code",
   "execution_count": 34,
   "id": "31c29712",
   "metadata": {},
   "outputs": [
    {
     "name": "stdout",
     "output_type": "stream",
     "text": [
      "jason.state.py file created\n"
     ]
    }
   ],
   "source": [
    "import json \n",
    "state={\n",
    "       \"States_1\":\"- Maharashtra\", \n",
    "       \"Maharashtra_Capital\":\"- Mumbai\", \n",
    "    \n",
    "       \"States_2\":\"- Goa\", \n",
    "       \"Goa_Capital\":\"- Panaji\", \n",
    "    \n",
    "       \"States_3\":\"- Tamil Nadu\", \n",
    "       \"Tamil Nadu_Capital\":\"- Chennai\",\n",
    "    \n",
    "       \"States_4\":\"- Himachal Pradesh\", \n",
    "       \"Himachal Pradesh_Capital\":\"- Shimla\", \n",
    "    \n",
    "       \"States_5\":\"- Punjab\", \n",
    "       \"Punjab_Capital\":\"- Chandigarh\", \n",
    "    \n",
    "       \"States_6\":\"- Karnataka\", \n",
    "       \"Karnataka_Capital\":\"- Bengaluru\",\n",
    "    \n",
    "       \"States_7\":\"- West Bengal\", \n",
    "       \"West Bengal_Capital\":\"- Kolkata\"\n",
    "      }\n",
    "with open(\"json_state.json\",\"w\") as f:\n",
    "    json.dump(state ,f,indent=4)\n",
    "    print(\"jason.state.py file created\")"
   ]
  },
  {
   "cell_type": "code",
   "execution_count": 32,
   "id": "7410da65",
   "metadata": {},
   "outputs": [
    {
     "name": "stdout",
     "output_type": "stream",
     "text": [
      "States_1 - Maharashtra\n",
      "Maharashtra_Capital - Mumbai\n",
      "States_2 - Goa\n",
      "Goa_Capital - Panaji\n",
      "States_3 - Tamil Nadu\n",
      "Tamil Nadu_Capital - Chennai\n",
      "States_4 - Himachal Pradesh\n",
      "Himachal Pradesh_Capital - Shimla\n",
      "States_5 - Punjab\n",
      "Punjab_Capital - Chandigarh\n",
      "States_6 - Karnataka\n",
      "Karnataka_Capital - Bengaluru\n",
      "States_7 - West Bengal\n",
      "West Bengal_Capital - Kolkata\n"
     ]
    }
   ],
   "source": [
    "import json\n",
    "with open(\"json_state.json\",\"r\") as f:\n",
    "    json_string =json.load(f)\n",
    "    for k,v in json_string.items():\n",
    "        print(k,v)"
   ]
  }
 ],
 "metadata": {
  "kernelspec": {
   "display_name": "Python 3 (ipykernel)",
   "language": "python",
   "name": "python3"
  },
  "language_info": {
   "codemirror_mode": {
    "name": "ipython",
    "version": 3
   },
   "file_extension": ".py",
   "mimetype": "text/x-python",
   "name": "python",
   "nbconvert_exporter": "python",
   "pygments_lexer": "ipython3",
   "version": "3.9.13"
  }
 },
 "nbformat": 4,
 "nbformat_minor": 5
}
