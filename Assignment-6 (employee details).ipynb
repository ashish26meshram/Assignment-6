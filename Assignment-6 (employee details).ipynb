{
 "cells": [
  {
   "cell_type": "code",
   "execution_count": 2,
   "id": "a10b1b70",
   "metadata": {},
   "outputs": [
    {
     "name": "stdout",
     "output_type": "stream",
     "text": [
      "jason.empolyee.py file created\n"
     ]
    }
   ],
   "source": [
    "import json\n",
    "employee= {\"Empolyee\":\n",
    "    [{\"Name\":\"ashish meshram\",\n",
    "    \"DOB\":\"26 march 1998\",\n",
    "    \"Height\":\"5.2\",\n",
    "    \"City\":\"nagpur\",\n",
    "    \"State\":\"maharashtra\"},\n",
    "    \n",
    "    {\"Name\":\"amit kumar\",\n",
    "    \"DOB\":\"16 feb 1988\",\n",
    "    \"Height\":\"4.8\",\n",
    "    \"City\":\"mumbai\",\n",
    "    \"State\":\"maharashtra\"},\n",
    "    \n",
    "    {\"Name\":\"ajay shinde\",\n",
    "    \"DOB\":\"12 feb 1996\",\n",
    "    \"Height\":\"5.1\",\n",
    "    \"City\":\"pune\",\n",
    "    \"State\":\"maharashtra\"},\n",
    "    \n",
    "    {\"Name\":\"ravi pande\",\n",
    "    \"DOB\":\"19 jun 1998\",\n",
    "    \"Height\":\"5.4\",\n",
    "    \"City\":\"jammu\",\n",
    "    \"State\":\"Jammu and Kashmir\"},\n",
    "    \n",
    "    {\"Name\":\"aman sing\",\n",
    "    \"DOB\":\"22 feb 1995\",\n",
    "    \"Height\":\"5.2\",\n",
    "    \"City\":\"amritsar\",\n",
    "    \"State\":\"punjab\"}\n",
    "]\n",
    "}\n",
    "\n",
    "with open(\"employee.json\",\"w\") as f:\n",
    "        json.dump(employee,f, indent=4)\n",
    "        print(\"jason.empolyee.py file created\")"
   ]
  },
  {
   "cell_type": "code",
   "execution_count": 48,
   "id": "bb1140ed",
   "metadata": {},
   "outputs": [
    {
     "data": {
      "text/plain": [
       "{'Empolyee': [{'Name': 'ashish meshram',\n",
       "   'DOB': '26 march 1998',\n",
       "   'Height': '5.2',\n",
       "   'City': 'nagpur',\n",
       "   'State': 'maharashtra'},\n",
       "  {'Name': 'amit kumar',\n",
       "   'DOB': '16 feb 1988',\n",
       "   'Height': '4.8',\n",
       "   'City': 'mumbai',\n",
       "   'State': 'maharashtra'},\n",
       "  {'Name': 'ajay shinde',\n",
       "   'DOB': '12 feb 1996',\n",
       "   'Height': '5.1',\n",
       "   'City': 'pune',\n",
       "   'State': 'maharashtra'},\n",
       "  {'Name': 'ravi pande',\n",
       "   'DOB': '19 jun 1998',\n",
       "   'Height': '5.4',\n",
       "   'City': 'jammu',\n",
       "   'State': 'Jammu and Kashmir'},\n",
       "  {'Name': 'aman sing',\n",
       "   'DOB': '22 feb 1995',\n",
       "   'Height': '5.2',\n",
       "   'City': 'amritsar',\n",
       "   'State': 'punjab'}]}"
      ]
     },
     "execution_count": 48,
     "metadata": {},
     "output_type": "execute_result"
    }
   ],
   "source": [
    "import json\n",
    "with open(\"employee.json\",\"r\") as f:\n",
    "    x =json.load(f)\n",
    "x"
   ]
  }
 ],
 "metadata": {
  "kernelspec": {
   "display_name": "Python 3 (ipykernel)",
   "language": "python",
   "name": "python3"
  },
  "language_info": {
   "codemirror_mode": {
    "name": "ipython",
    "version": 3
   },
   "file_extension": ".py",
   "mimetype": "text/x-python",
   "name": "python",
   "nbconvert_exporter": "python",
   "pygments_lexer": "ipython3",
   "version": "3.9.13"
  }
 },
 "nbformat": 4,
 "nbformat_minor": 5
}
